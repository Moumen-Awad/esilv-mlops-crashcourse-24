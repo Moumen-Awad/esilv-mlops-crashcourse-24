{
 "cells": [
  {
   "attachments": {},
   "cell_type": "markdown",
   "metadata": {},
   "source": [
    "<h1>Part 4 - Experiment Tracking</h1>"
   ]
  },
  {
   "attachments": {},
   "cell_type": "markdown",
   "metadata": {},
   "source": [
    "# Experiment Tracking and Model Management with MLFlow"
   ]
  },
  {
   "cell_type": "code",
   "execution_count": 19,
   "metadata": {},
   "outputs": [
    {
     "name": "stdout",
     "output_type": "stream",
     "text": [
      "tracking URI: 'file:///g:/My%20Drive/MSc%20Computer%20Science/MLOps/project/project-titanic/mlruns'\n"
     ]
    }
   ],
   "source": [
    "\n",
    "import mlflow\n",
    "import pickle\n",
    "\n",
    "print(f\"tracking URI: '{mlflow.get_tracking_uri()}'\")"
   ]
  },
  {
   "attachments": {},
   "cell_type": "markdown",
   "metadata": {},
   "source": [
    "After this initialization, we can connect create a client to connect to the API and see what experiments are present."
   ]
  },
  {
   "attachments": {},
   "cell_type": "markdown",
   "metadata": {},
   "source": [
    "By refering to mlflow's [documentation](https://mlflow.org/docs/latest/python_api/mlflow.client.html), create a client and display a list of the available experiments using the search_experiments function. This function could prove useful later to programatically explore experiments (rather than in the UI)"
   ]
  },
  {
   "cell_type": "code",
   "execution_count": 14,
   "metadata": {},
   "outputs": [
    {
     "name": "stdout",
     "output_type": "stream",
     "text": [
      "[<Experiment: artifact_location='file:///g:/My%20Drive/MSc%20Computer%20Science/MLOps/project/project-titanic/mlruns/0', creation_time=1736026881822, experiment_id='0', last_update_time=1736026881822, lifecycle_stage='active', name='Default', tags={}>]\n"
     ]
    }
   ],
   "source": [
    "from mlflow.tracking import MlflowClient\n",
    "client = mlflow.MlflowClient()\n",
    "experiments = client.search_experiments()\n",
    "print(experiments)"
   ]
  },
  {
   "attachments": {},
   "cell_type": "markdown",
   "metadata": {},
   "source": [
    "We see that there is a default experiment for which the runs are stored locally in the mlruns folder."
   ]
  },
  {
   "attachments": {},
   "cell_type": "markdown",
   "metadata": {},
   "source": [
    "# Use Case"
   ]
  },
  {
   "cell_type": "code",
   "execution_count": 1,
   "metadata": {},
   "outputs": [],
   "source": [
    "import pandas as pd\n",
    "import seaborn as sns\n",
    "import numpy as np\n",
    "\n",
    "from sklearn.feature_extraction import DictVectorizer\n",
    "from sklearn.linear_model import LinearRegression\n",
    "from sklearn.model_selection import train_test_split\n",
    "from sklearn.preprocessing import LabelEncoder\n",
    "from sklearn.metrics import mean_squared_error\n",
    "from sklearn.ensemble import RandomForestClassifier\n",
    "from sklearn.metrics import accuracy_score\n",
    "\n",
    "from typing import List\n",
    "from scipy.sparse import csr_matrix"
   ]
  },
  {
   "attachments": {},
   "cell_type": "markdown",
   "metadata": {},
   "source": [
    "## 1 - Load data"
   ]
  },
  {
   "cell_type": "code",
   "execution_count": 2,
   "metadata": {},
   "outputs": [],
   "source": [
    "DATA_FOLDER = \"data\"\n",
    "\n",
    "train_df = pd.read_csv(DATA_FOLDER + '/train_and_test2.csv')"
   ]
  },
  {
   "attachments": {},
   "cell_type": "markdown",
   "metadata": {},
   "source": [
    "## 2 - Prepare the data"
   ]
  },
  {
   "attachments": {},
   "cell_type": "markdown",
   "metadata": {},
   "source": [
    "### 2-1 Clean Data"
   ]
  },
  {
   "cell_type": "code",
   "execution_count": 3,
   "metadata": {},
   "outputs": [],
   "source": [
    "selected_cols = ['Age', 'Fare', 'Sex', 'sibsp', 'Parch', 'Pclass', 'Embarked', '2urvived']\n",
    "train_df = train_df[selected_cols]"
   ]
  },
  {
   "cell_type": "code",
   "execution_count": 4,
   "metadata": {},
   "outputs": [
    {
     "name": "stdout",
     "output_type": "stream",
     "text": [
      "<class 'pandas.core.frame.DataFrame'>\n",
      "Int64Index: 1307 entries, 0 to 1308\n",
      "Data columns (total 8 columns):\n",
      " #   Column    Non-Null Count  Dtype  \n",
      "---  ------    --------------  -----  \n",
      " 0   Age       1307 non-null   float64\n",
      " 1   Fare      1307 non-null   float64\n",
      " 2   Sex       1307 non-null   int64  \n",
      " 3   sibsp     1307 non-null   int64  \n",
      " 4   Parch     1307 non-null   int64  \n",
      " 5   Pclass    1307 non-null   int64  \n",
      " 6   Embarked  1307 non-null   float64\n",
      " 7   2urvived  1307 non-null   int64  \n",
      "dtypes: float64(3), int64(5)\n",
      "memory usage: 91.9 KB\n"
     ]
    }
   ],
   "source": [
    "train_df = train_df.dropna()\n",
    "train_df.info()"
   ]
  },
  {
   "attachments": {},
   "cell_type": "markdown",
   "metadata": {},
   "source": [
    "### 2-2 Prepare features"
   ]
  },
  {
   "cell_type": "code",
   "execution_count": 5,
   "metadata": {},
   "outputs": [],
   "source": [
    "train_df, test_df = train_test_split(train_df, test_size=0.2, random_state=42)\n",
    "train_df = pd.DataFrame(train_df)\n",
    "test_df = pd.DataFrame(test_df)"
   ]
  },
  {
   "attachments": {},
   "cell_type": "markdown",
   "metadata": {},
   "source": [
    "#### 2-2-1 Categorical features"
   ]
  },
  {
   "cell_type": "code",
   "execution_count": 6,
   "metadata": {},
   "outputs": [],
   "source": [
    "CATEGORICAL_COLS = ['Pclass', 'Sex', 'Embarked']\n",
    "\n",
    "def encode_categorical_cols(df):\n",
    "    label_encoders = {}\n",
    "    for col in CATEGORICAL_COLS:\n",
    "        df[col] = df[col].fillna(\"Unknown\")\n",
    "        label_encoders[col] = LabelEncoder()\n",
    "        df[col] = label_encoders[col].fit_transform(df[col])\n",
    "    \n",
    "    return df, label_encoders\n",
    "\n",
    "train_df, encoders = encode_categorical_cols(train_df)"
   ]
  },
  {
   "cell_type": "code",
   "execution_count": 7,
   "metadata": {},
   "outputs": [],
   "source": [
    "def extract_x_y(df, categorical_cols=None, dv=None, with_target=True):\n",
    "    if categorical_cols is None:\n",
    "        categorical_cols = ['Pclass', 'Sex', 'Embarked']\n",
    "    \n",
    "    dicts = df[categorical_cols].to_dict(orient=\"records\")\n",
    "    y = None\n",
    "\n",
    "    if with_target:\n",
    "        if dv is None:\n",
    "            dv = DictVectorizer()\n",
    "            dv.fit(dicts)\n",
    "        y = df[\"2urvived\"].values\n",
    "\n",
    "    x = dv.transform(dicts)\n",
    "    return x, y, dv\n",
    "\n",
    "X_train, y_train, dv = extract_x_y(train_df)"
   ]
  },
  {
   "attachments": {},
   "cell_type": "markdown",
   "metadata": {},
   "source": [
    "## 3 - Train model"
   ]
  },
  {
   "cell_type": "code",
   "execution_count": 8,
   "metadata": {},
   "outputs": [],
   "source": [
    "#Random Forest\n",
    "def train_model(X_train: csr_matrix, y_train: np.ndarray):\n",
    "    model_rf = RandomForestClassifier(n_estimators=100, max_depth=10, random_state=42)\n",
    "    model_rf.fit(X_train, y_train)\n",
    "    return model_rf\n",
    "\n",
    "model = train_model(X_train, y_train)"
   ]
  },
  {
   "attachments": {},
   "cell_type": "markdown",
   "metadata": {},
   "source": [
    "## 4 - Evaluate model"
   ]
  },
  {
   "attachments": {},
   "cell_type": "markdown",
   "metadata": {},
   "source": [
    "We evaluate the model on train and test data"
   ]
  },
  {
   "attachments": {},
   "cell_type": "markdown",
   "metadata": {},
   "source": [
    "### 4-1 On train data"
   ]
  },
  {
   "cell_type": "code",
   "execution_count": 9,
   "metadata": {},
   "outputs": [
    {
     "data": {
      "text/plain": [
       "0.7961722488038278"
      ]
     },
     "execution_count": 9,
     "metadata": {},
     "output_type": "execute_result"
    }
   ],
   "source": [
    "def predict_survival(input_data: csr_matrix, model: RandomForestClassifier):\n",
    "    return model.predict(input_data)\n",
    "\n",
    "\n",
    "def evaluate_model(y_true: np.ndarray, y_pred: np.ndarray):\n",
    "    return accuracy_score(y_true, y_pred)\n",
    "\n",
    "\n",
    "prediction = predict_survival(X_train, model)\n",
    "train_acc = evaluate_model(y_train, prediction)\n",
    "train_acc"
   ]
  },
  {
   "attachments": {},
   "cell_type": "markdown",
   "metadata": {},
   "source": [
    "### 4-2 On test data"
   ]
  },
  {
   "cell_type": "code",
   "execution_count": 10,
   "metadata": {},
   "outputs": [],
   "source": [
    "def transform_categorical_cols(df, encoders):\n",
    "    for col, encoder in encoders.items():\n",
    "        df[col] = df[col].fillna(\"Unknown\")\n",
    "        df[col] = encoder.transform(df[col])\n",
    "    return df\n",
    "\n",
    "test_df = transform_categorical_cols(test_df, encoders)\n",
    "X_test, y_test, _ = extract_x_y(test_df, dv=dv)"
   ]
  },
  {
   "cell_type": "code",
   "execution_count": 11,
   "metadata": {},
   "outputs": [
    {
     "data": {
      "text/plain": [
       "0.7786259541984732"
      ]
     },
     "execution_count": 11,
     "metadata": {},
     "output_type": "execute_result"
    }
   ],
   "source": [
    "y_pred_test = predict_survival(X_test, model)\n",
    "test_acc = evaluate_model(y_test, y_pred_test)\n",
    "test_acc"
   ]
  },
  {
   "attachments": {},
   "cell_type": "markdown",
   "metadata": {},
   "source": [
    "## 5 - Log Model Parameters to MlFlow"
   ]
  },
  {
   "attachments": {},
   "cell_type": "markdown",
   "metadata": {},
   "source": [
    "Now that all our development functions are built and tested, let's create a training pipeline and log the training parameters, logs and model to MlFlow."
   ]
  },
  {
   "attachments": {},
   "cell_type": "markdown",
   "metadata": {},
   "source": [
    "Create a training flow, log all the important parameters, metrics and model. Try to find what could be important and needs to be logged."
   ]
  },
  {
   "cell_type": "code",
   "execution_count": 23,
   "metadata": {},
   "outputs": [
    {
     "name": "stderr",
     "output_type": "stream",
     "text": [
      "2025/01/04 23:12:45 INFO mlflow.tracking.fluent: Experiment with name 'titanic-1' does not exist. Creating a new experiment.\n",
      "2025/01/04 23:12:48 WARNING mlflow.models.model: Model logged without a signature and input example. Please set `input_example` parameter when logging the model to auto infer the model signature.\n",
      "Successfully registered model 'titanic-random-forest-v1'.\n",
      "Created version '1' of model 'titanic-random-forest-v1'.\n"
     ]
    }
   ],
   "source": [
    "# Set the experiment name\n",
    "mlflow.set_experiment(\"titanic-1\")\n",
    "model_name = 'Random Forest V1'\n",
    "\n",
    "# Start a run\n",
    "with mlflow.start_run() as run:\n",
    "    run_id = run.info.run_id\n",
    "\n",
    "    # Set tags for the run\n",
    "    mlflow.set_tag(\"developer\", \"LFBV\")\n",
    "    mlflow.set_tag(\"project\", \"Titanic Survival Prediction\")\n",
    "\n",
    "    # Load and clean data\n",
    "    DATA_FOLDER = \"data\"\n",
    "    train_df = pd.read_csv(DATA_FOLDER + '/train_and_test2.csv')\n",
    "    selected_cols = ['Age', 'Fare', 'Sex', 'sibsp', 'Parch', 'Pclass', 'Embarked', '2urvived']\n",
    "    train_df = train_df[selected_cols]\n",
    "    train_df = train_df.dropna()\n",
    "\n",
    "    # Train-test\n",
    "    train_df, test_df = train_test_split(train_df, test_size=0.2, random_state=42)\n",
    "    train_df = pd.DataFrame(train_df)\n",
    "    test_df = pd.DataFrame(test_df)\n",
    "\n",
    "    # Encode categorical columns - get encoders\n",
    "    CATEGORICAL_COLS = ['Pclass', 'Sex', 'Embarked']\n",
    "    train_df, encoders = encode_categorical_cols(train_df)\n",
    "\n",
    "    # Extract X, y and DV\n",
    "    X_train, y_train, dv = extract_x_y(train_df)\n",
    "\n",
    "    # Train model\n",
    "    def train_model(X_train: csr_matrix, y_train: np.ndarray):\n",
    "        model_rf = RandomForestClassifier(n_estimators=100, max_depth=10, random_state=42)\n",
    "        model_rf.fit(X_train, y_train)\n",
    "        return model_rf\n",
    "\n",
    "    model = train_model(X_train, y_train)\n",
    "\n",
    "    # Evaluate model\n",
    "    prediction = predict_survival(X_train, model)\n",
    "    train_acc = evaluate_model(y_train, prediction)\n",
    "\n",
    "    # transfor cat cols from test data using ecoders\n",
    "    test_df = transform_categorical_cols(test_df, encoders)\n",
    "    X_test, y_test, _ = extract_x_y(test_df, dv=dv)\n",
    "\n",
    "    # Evaluate model on test set\n",
    "    y_pred_test = predict_survival(X_test, model)\n",
    "    test_acc = evaluate_model(y_test, y_pred_test)\n",
    "\n",
    "    # Log your model\n",
    "    mlflow.sklearn.log_model(model, model_name)\n",
    "\n",
    "    # Register your model in mlfow model registry\n",
    "    mlflow.log_param(\"train_accuracy\", train_acc)\n",
    "    mlflow.log_param(\"test_accuracy\", test_acc)\n",
    "\n",
    "    # Save encoders and dv as artifacts\n",
    "    with open(\"encoders.pkl\", \"wb\") as f:\n",
    "        pickle.dump(encoders, f)\n",
    "    with open(\"dv.pkl\", \"wb\") as f:\n",
    "        pickle.dump(dv, f)\n",
    "\n",
    "    # Log encoders and dv as artifacts\n",
    "    mlflow.log_artifact(\"encoders.pkl\")\n",
    "    mlflow.log_artifact(\"dv.pkl\")\n",
    "\n",
    "    # Register your model in mlfow model registry\n",
    "    result = mlflow.register_model(f\"runs:/{run_id}/models\", \"titanic-random-forest-v1\")\n",
    "\n",
    "    # end run\n",
    "    mlflow.end_run()"
   ]
  },
  {
   "cell_type": "code",
   "execution_count": 24,
   "metadata": {},
   "outputs": [
    {
     "name": "stderr",
     "output_type": "stream",
     "text": [
      "2025/01/04 23:12:56 WARNING mlflow.models.model: Model logged without a signature and input example. Please set `input_example` parameter when logging the model to auto infer the model signature.\n",
      "Successfully registered model 'titanic-random-forest-v2'.\n",
      "Created version '1' of model 'titanic-random-forest-v2'.\n"
     ]
    }
   ],
   "source": [
    "model_name = 'Random Forest V2'\n",
    "\n",
    "# Start a run\n",
    "with mlflow.start_run() as run:\n",
    "    run_id = run.info.run_id\n",
    "\n",
    "    # Set tags for the run\n",
    "    mlflow.set_tag(\"developer\", \"LFBV\")\n",
    "    mlflow.set_tag(\"project\", \"Titanic Survival Prediction\")\n",
    "\n",
    "    # Load and clean data\n",
    "    DATA_FOLDER = \"data\"\n",
    "    train_df = pd.read_csv(DATA_FOLDER + '/train_and_test2.csv')\n",
    "    selected_cols = ['Age', 'Fare', 'Sex', 'sibsp', 'Parch', 'Pclass', 'Embarked', '2urvived']\n",
    "    train_df = train_df[selected_cols]\n",
    "    train_df = train_df.dropna()\n",
    "\n",
    "    # Train-test\n",
    "    train_df, test_df = train_test_split(train_df, test_size=0.2, random_state=42)\n",
    "    train_df = pd.DataFrame(train_df)\n",
    "    test_df = pd.DataFrame(test_df)\n",
    "\n",
    "    # Encode categorical columns - get encoders\n",
    "    CATEGORICAL_COLS = ['Pclass', 'Sex', 'Embarked']\n",
    "    train_df, encoders = encode_categorical_cols(train_df)\n",
    "\n",
    "    # Extract X, y and DV\n",
    "    X_train, y_train, dv = extract_x_y(train_df)\n",
    "\n",
    "    # Train model\n",
    "    def train_model(X_train: csr_matrix, y_train: np.ndarray):\n",
    "        model_rf = RandomForestClassifier(n_estimators=1000, max_depth=100, random_state=42)\n",
    "        model_rf.fit(X_train, y_train)\n",
    "        return model_rf\n",
    "\n",
    "    model = train_model(X_train, y_train)\n",
    "\n",
    "    # Evaluate model\n",
    "    prediction = predict_survival(X_train, model)\n",
    "    train_acc = evaluate_model(y_train, prediction)\n",
    "\n",
    "    # transfor cat cols from test data using ecoders\n",
    "    test_df = transform_categorical_cols(test_df, encoders)\n",
    "    X_test, y_test, _ = extract_x_y(test_df, dv=dv)\n",
    "\n",
    "    # Evaluate model on test set\n",
    "    y_pred_test = predict_survival(X_test, model)\n",
    "    test_acc = evaluate_model(y_test, y_pred_test)\n",
    "\n",
    "    # Log your model\n",
    "    mlflow.sklearn.log_model(model, model_name)\n",
    "\n",
    "    # Register your model in mlfow model registry\n",
    "    mlflow.log_param(\"train_accuracy\", train_acc)\n",
    "    mlflow.log_param(\"test_accuracy\", test_acc)\n",
    "\n",
    "    # Save encoders and dv as artifacts\n",
    "    with open(\"encoders.pkl\", \"wb\") as f:\n",
    "        pickle.dump(encoders, f)\n",
    "    with open(\"dv.pkl\", \"wb\") as f:\n",
    "        pickle.dump(dv, f)\n",
    "\n",
    "    # Log encoders and dv as artifacts\n",
    "    mlflow.log_artifact(\"encoders.pkl\")\n",
    "    mlflow.log_artifact(\"dv.pkl\")\n",
    "\n",
    "    # Register your model in mlfow model registry\n",
    "    result = mlflow.register_model(f\"runs:/{run_id}/models\", \"titanic-random-forest-v2\")\n",
    "\n",
    "    # end run\n",
    "    mlflow.end_run()"
   ]
  }
 ],
 "metadata": {
  "kernelspec": {
   "display_name": "mlops-course",
   "language": "python",
   "name": "python3"
  },
  "language_info": {
   "codemirror_mode": {
    "name": "ipython",
    "version": 3
   },
   "file_extension": ".py",
   "mimetype": "text/x-python",
   "name": "python",
   "nbconvert_exporter": "python",
   "pygments_lexer": "ipython3",
   "version": "3.10.13"
  },
  "orig_nbformat": 4
 },
 "nbformat": 4,
 "nbformat_minor": 2
}
